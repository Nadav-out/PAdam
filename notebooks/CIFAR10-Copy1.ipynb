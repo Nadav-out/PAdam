{
 "cells": [
  {
   "cell_type": "code",
   "execution_count": 4,
   "metadata": {},
   "outputs": [
    {
     "name": "stdout",
     "output_type": "stream",
     "text": [
      "The autoreload extension is already loaded. To reload it, use:\n",
      "  %reload_ext autoreload\n"
     ]
    }
   ],
   "source": [
    "%load_ext autoreload\n",
    "%autoreload 2\n",
    "import sys\n",
    "sys.path.append('../python')\n",
    "import os\n",
    "import torch\n",
    "import torchvision\n",
    "import torchvision.models as models\n",
    "import torchvision.transforms as tt\n",
    "import torch.backends.cudnn as cudnn\n",
    "\n",
    "\n",
    "import pickle\n",
    "\n",
    "from tqdm import tqdm\n",
    "\n",
    "from torchinfo import summary\n",
    "\n",
    "\n",
    "\n",
    "from models import ResNet18\n",
    "\n",
    "import time\n",
    "\n",
    "\n"
   ]
  },
  {
   "cell_type": "code",
   "execution_count": 3,
   "metadata": {},
   "outputs": [
    {
     "name": "stdout",
     "output_type": "stream",
     "text": [
      "Number of trainable parameters: 11,181,642\n"
     ]
    }
   ],
   "source": [
    "# model = ResNet18(3, 10)\n",
    "model = models.resnet18(weights=None)\n",
    "num_classes = 10\n",
    "model.fc = torch.nn.Linear(model.fc.in_features, num_classes)\n",
    "\n",
    "num_params=sum(p.numel() for p in model.parameters() if p.requires_grad)\n",
    "print(f\"Number of trainable parameters: {num_params:,}\")\n",
    "\n"
   ]
  },
  {
   "cell_type": "code",
   "execution_count": 41,
   "metadata": {},
   "outputs": [
    {
     "name": "stdout",
     "output_type": "stream",
     "text": [
      "Mean and Std Dev loaded from file.\n",
      "Mean: tensor([0.4915, 0.4822, 0.4466]), Std: tensor([0.2463, 0.2428, 0.2607])\n"
     ]
    }
   ],
   "source": [
    "def calculate_mean_std(dataset):\n",
    "    dataloader = torch.utils.data.DataLoader(dataset, batch_size=64, shuffle=False, num_workers=2)\n",
    "    mean_sum = torch.zeros(3)\n",
    "    std_sum = torch.zeros(3)\n",
    "    num_batches = 0\n",
    "\n",
    "    for images, _ in dataloader:\n",
    "        num_batches += 1\n",
    "        for i in range(3):\n",
    "            mean_sum[i] += images[:,i,:,:].mean()\n",
    "            std_sum[i] += images[:,i,:,:].std()\n",
    "\n",
    "    mean = mean_sum / num_batches\n",
    "    std = std_sum / num_batches\n",
    "\n",
    "    return mean, std\n",
    "\n",
    "\n",
    "# Path for the dataset and the mean/std file\n",
    "data_path = '../data'\n",
    "mean_std_file = os.path.join(data_path, 'cifar10_mean_std.pkl')\n",
    "\n",
    "\n",
    "# Check if mean/std file exists, calculate if not\n",
    "if not os.path.exists(mean_std_file):\n",
    "    # Load CIFAR-10 without normalization\n",
    "    trainset_raw = torchvision.datasets.CIFAR10(root=data_path, train=True, download=True, transform=tt.ToTensor())\n",
    "    mean, std = calculate_mean_std(trainset_raw)\n",
    "    with open(mean_std_file, 'wb') as f:\n",
    "        pickle.dump((mean, std), f)\n",
    "    print(\"Mean and Std Dev calculated and saved.\")\n",
    "else:\n",
    "    with open(mean_std_file, 'rb') as f:\n",
    "        mean, std = pickle.load(f)\n",
    "    print(\"Mean and Std Dev loaded from file.\")\n",
    "\n",
    "print(f\"Mean: {mean}, Std: {std}\")\n",
    "\n",
    "transform_train = tt.Compose([tt.RandomCrop(32, padding=4, padding_mode='reflect'), \n",
    "\n",
    "                         tt.RandomRotation(degrees=(0, 90)),\n",
    "                         tt.RandomHorizontalFlip(), \n",
    "                         #tt.RandomPerspective(distortion_scale=0.14),\n",
    "                         # tt.RandomResizedCrop(256, scale=(0.5,0.9), ratio=(1, 1)), \n",
    "                         tt.ColorJitter(brightness=0.3, contrast=0.3, saturation=0.3, hue=0.2),\n",
    "                         tt.ToTensor(), \n",
    "                         tt.Normalize(mean, std,inplace=True)])\n",
    "transform_test = tt.Compose([tt.ToTensor(), tt.Normalize(mean, std)])\n",
    "\n"
   ]
  },
  {
   "cell_type": "code",
   "execution_count": 42,
   "metadata": {},
   "outputs": [
    {
     "name": "stdout",
     "output_type": "stream",
     "text": [
      "Using device: cuda\n"
     ]
    }
   ],
   "source": [
    "def get_default_device():\n",
    "    \"\"\"Pick GPU if available, else CPU\"\"\"\n",
    "    if torch.cuda.is_available():\n",
    "        return torch.device('cuda')\n",
    "    else:\n",
    "        return torch.device('cpu')\n",
    "    \n",
    "def to_device(data, device):\n",
    "    \"\"\"Move tensor(s) to chosen device\"\"\"\n",
    "    if isinstance(data, (list,tuple)):\n",
    "        return [to_device(x, device) for x in data]\n",
    "    return data.to(device, non_blocking=True)\n",
    "\n",
    "class DeviceDataLoader():\n",
    "    \"\"\"Wrap a dataloader to move data to a device\"\"\"\n",
    "    def __init__(self, dl, device):\n",
    "        self.dl = dl\n",
    "        self.device = device\n",
    "        \n",
    "    def __iter__(self):\n",
    "        \"\"\"Yield a batch of data after moving it to device\"\"\"\n",
    "        for b in self.dl: \n",
    "            yield to_device(b, self.device)\n",
    "\n",
    "    def __len__(self):\n",
    "        \"\"\"Number of batches\"\"\"\n",
    "        return len(self.dl)\n",
    "    \n",
    "device = get_default_device()\n",
    "print(f\"Using device: {device}\")\n"
   ]
  },
  {
   "cell_type": "code",
   "execution_count": 44,
   "metadata": {},
   "outputs": [
    {
     "name": "stdout",
     "output_type": "stream",
     "text": [
      "Files already downloaded and verified\n",
      "Files already downloaded and verified\n"
     ]
    }
   ],
   "source": [
    "batch_size=400\n",
    "\n",
    "# Load the CIFAR-10 dataset with transforms\n",
    "trainset = torchvision.datasets.CIFAR10(root='../data', train=True, download=True, transform=transform_train)\n",
    "trainloader = torch.utils.data.DataLoader(trainset, batch_size=batch_size, shuffle=True, num_workers=3,pin_memory=True)\n",
    "\n",
    "testset = torchvision.datasets.CIFAR10(root='../data', train=False, download=True, transform=transform_test)\n",
    "testloader = torch.utils.data.DataLoader(testset, batch_size=2*batch_size, shuffle=False, num_workers=3,pin_memory=True)\n",
    "\n",
    "\n",
    "\n"
   ]
  },
  {
   "cell_type": "code",
   "execution_count": 45,
   "metadata": {},
   "outputs": [],
   "source": [
    "# Move data and model to device\n",
    "trainloader = DeviceDataLoader(trainloader, device)\n",
    "testloader = DeviceDataLoader(testloader, device)\n",
    "model = to_device(model, device)\n"
   ]
  },
  {
   "cell_type": "code",
   "execution_count": 46,
   "metadata": {},
   "outputs": [],
   "source": [
    "epochs = 100\n",
    "max_lr = 0.001\n",
    "grad_clip = 0.75\n",
    "bias_clip= True\n",
    "weight_decay = 0.0001\n",
    "betas=(0.9,0.95)"
   ]
  },
  {
   "cell_type": "code",
   "execution_count": 47,
   "metadata": {},
   "outputs": [],
   "source": [
    "# Define loss function and optimizer\n",
    "criterion = torch.nn.CrossEntropyLoss()\n",
    "optimizer = torch.optim.AdamW(model.parameters(), lr=max_lr,weight_decay=weight_decay,fused=True, betas=betas)\n",
    "optimizer = PAdam(model.parameters(), lr=max_lr, lambda_p=1e-5, p_norm=0.8)\n",
    "\n",
    "# optimizer = torch.optim.SGD(model.parameters(), lr=0.001,weight_decay=1e-4,momentum=0.9)\n",
    "# decay_rate = 10 ** (-2 / epochs)\n",
    "# scheduler = torch.optim.lr_scheduler.CosineAnnealingLR(optimizer, T_max=200)\n",
    "# scheduler = torch.optim.lr_scheduler.ExponentialLR(optimizer, decay_rate)\n",
    "scheduler = torch.optim.lr_scheduler.CosineAnnealingWarmRestarts(optimizer, \n",
    "                                        T_0 = 1563,# Number of iterations for the first restart (Total iterations are epochs*len(train_loader) then divide that by how many times you want a restart)\n",
    "                                        T_mult = 1, # A factor increases TiTi​ after a restart\n",
    "                                        eta_min = 1e-5) # Minimum learning rate\n"
   ]
  },
  {
   "cell_type": "code",
   "execution_count": null,
   "metadata": {},
   "outputs": [
    {
     "name": "stdout",
     "output_type": "stream",
     "text": [
      "Epoch: 88/100\titer: 11000\tTrain Loss: 0.7104\tTest Loss: 0.7516\tAccuracy: 74.24%\tCurrent LR: 0.00100\tElapsed Time: 00:25:43\tExpected Time: 00:29:13"
     ]
    }
   ],
   "source": [
    "# model = torch.compile(model) # requires PyTorch 2.0\n",
    "\n",
    "\n",
    "\n",
    "best_accuracy = 0.0\n",
    "iteration_count = 0\n",
    "train_losses = []\n",
    "val_losses = []\n",
    "accuracies = []\n",
    "lrs = []\n",
    "\n",
    "start_time = time.time()    \n",
    "for epoch in range(epochs):\n",
    "    model.train()\n",
    "    running_loss = 0.0\n",
    "\n",
    "    for data in trainloader:\n",
    "        iteration_count += 1\n",
    "        inputs, labels = data\n",
    "\n",
    "        optimizer.zero_grad()\n",
    "        outputs = model(inputs)\n",
    "        loss = criterion(outputs, labels)\n",
    "        loss.backward()\n",
    "        torch.nn.utils.clip_grad_norm_(model.parameters(), grad_clip)\n",
    "        optimizer.step()\n",
    "\n",
    "        running_loss += loss.item()\n",
    "        scheduler.step()\n",
    "\n",
    "    avg_train_loss = running_loss / len(trainloader)\n",
    "    train_losses.append(avg_train_loss)\n",
    "\n",
    "    # Validation loop\n",
    "    model.eval()\n",
    "    correct = 0\n",
    "    total = 0\n",
    "    running_val_loss = 0.0\n",
    "\n",
    "    with torch.no_grad():\n",
    "        for data in testloader:\n",
    "            images, labels = data\n",
    "            outputs = model(images)\n",
    "            loss = criterion(outputs, labels)\n",
    "            running_val_loss += loss.item()\n",
    "            _, predicted = torch.max(outputs.data, 1)\n",
    "            total += labels.size(0)\n",
    "            correct += (predicted == labels).sum().item()\n",
    "            \n",
    "\n",
    "\n",
    "\n",
    "    avg_val_loss = running_val_loss / len(testloader)\n",
    "    val_losses.append(avg_val_loss)\n",
    "\n",
    "    accuracy = 100 * correct / total\n",
    "    accuracies.append(accuracy)\n",
    "\n",
    "    # Save best model\n",
    "    if accuracy > best_accuracy:\n",
    "        best_accuracy = accuracy\n",
    "        torch.save({\n",
    "            'epoch': epoch,\n",
    "            'model_state_dict': model.state_dict(),\n",
    "            'optimizer_state_dict': optimizer.state_dict(),\n",
    "            'accuracy': accuracy,\n",
    "        }, '../data/best_model.pth')  # Update path as needed\n",
    "\n",
    "    # Calculate and format runtime and expected time\n",
    "    elapsed_time = time.time() - start_time\n",
    "    expected_time = elapsed_time * epochs / (epoch + 1)\n",
    "    elapsed_str = time.strftime(\"%H:%M:%S\", time.gmtime(elapsed_time))\n",
    "    expected_str = time.strftime(\"%H:%M:%S\", time.gmtime(expected_time))\n",
    "\n",
    "    # Track and store current learning rate\n",
    "    current_lr = optimizer.param_groups[0]['lr']\n",
    "    lrs.append(current_lr)\n",
    "\n",
    "    status_message = f\"Epoch: {epoch+1}/{epochs}\\titer: {iteration_count}\\tTrain Loss: {avg_train_loss:.4f}\\tTest Loss: {avg_val_loss:.4f}\\tAccuracy: {accuracy:.2f}%\\tCurrent LR: {current_lr:.5f}\\tElapsed Time: {elapsed_str}\\tExpected Time: {expected_str}\"\n",
    "    print(f\"\\r{status_message}\",end='')\n",
    "\n",
    "print()\n",
    "print('Finished Training')"
   ]
  },
  {
   "cell_type": "code",
   "execution_count": 14,
   "metadata": {},
   "outputs": [
    {
     "name": "stdout",
     "output_type": "stream",
     "text": [
      "[0.0009998310263493043, 0.000999271251071315, 0.0009983201174890326, 0.0009969783786991124, 0.0009952470970749304, 0.0009931276434254083, 0.0009906216959096228, 0.0009877312387080585, 0.0009844585604515557, 0.000980806252409201, 0.0009767772064365882, 0.0009723746126860803, 0.0009676019570808845, 0.0009624630185549374, 0.0009569618660607892, 0.0009511028553478527, 0.0009448906255135718, 0.0009383300953302373, 0.000931426459350359, 0.000924185183793679, 0.0009166120022190815, 0.0009087129109848266, 0.000900494164500703, 0.0008919622702758575, 0.0008831239837662245, 0.0008739863030256334, 0.0008645564631648298, 0.0008548419306227973, 0.0008448503972549182, 0.000834589774242649, 0.0008240681858295391, 0.0008132939628885472, 0.0008022756363257518, 0.0007910219303256783, 0.0007795417554435886, 0.0007678442015502066, 0.0007559385306344632, 0.0007438341694699585, 0.000731540702150952, 0.0007190678625037855, 0.0007064255263797525, 0.000693623703835511, 0.0006806725312072366, 0.0006675822630847878, 0.0006543632641922382, 0.0006410260011812087, 0.0006275810343434917, 0.0006140390092495337, 0.000600410648319394, 0.0005867067423328572]\n"
     ]
    }
   ],
   "source": [
    "print(lrs)"
   ]
  },
  {
   "cell_type": "code",
   "execution_count": 36,
   "metadata": {},
   "outputs": [
    {
     "data": {
      "image/png": "[encoded data removed]",
      "text/plain": [
       "<Figure size 432x288 with 1 Axes>"
      ]
     },
     "metadata": {
      "needs_background": "light"
     },
     "output_type": "display_data"
    }
   ],
   "source": [
    "import matplotlib.pyplot as plt\n",
    "plt.plot(train_losses)\n",
    "plt.plot(val_losses)\n",
    "plt.show()"
   ]
  },
  {
   "cell_type": "code",
   "execution_count": null,
   "metadata": {},
   "outputs": [],
   "source": []
  }
 ],
 "metadata": {
  "kernelspec": {
   "display_name": "Python 3",
   "language": "python",
   "name": "python3"
  },
  "language_info": {
   "codemirror_mode": {
    "name": "ipython",
    "version": 3
   },
   "file_extension": ".py",
   "mimetype": "text/x-python",
   "name": "python",
   "nbconvert_exporter": "python",
   "pygments_lexer": "ipython3",
   "version": "3.8.5"
  }
 },
 "nbformat": 4,
 "nbformat_minor": 4
}
