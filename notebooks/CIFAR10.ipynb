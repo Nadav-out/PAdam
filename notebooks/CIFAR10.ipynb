{
 "cells": [
  {
   "cell_type": "code",
   "execution_count": 1,
   "metadata": {},
   "outputs": [],
   "source": [
    "import torch\n",
    "import torchvision\n",
    "import torchvision.models as models\n",
    "import torchvision.transforms as transforms\n",
    "import torch.backends.cudnn as cudnn\n",
    "\n",
    "\n",
    "import pickle\n",
    "import os\n",
    "from tqdm import tqdm\n",
    "\n",
    "from torchinfo import summary\n"
   ]
  },
  {
   "cell_type": "code",
   "execution_count": 2,
   "metadata": {},
   "outputs": [
    {
     "name": "stdout",
     "output_type": "stream",
     "text": [
      "Number of trainable parameters: 11,181,642\n"
     ]
    }
   ],
   "source": [
    "model = models.resnet18(weights=None)\n",
    "num_classes = 10\n",
    "model.fc = torch.nn.Linear(model.fc.in_features, num_classes)\n",
    "\n",
    "num_params=sum(p.numel() for p in model.parameters() if p.requires_grad)\n",
    "print(f\"Number of trainable parameters: {num_params:,}\")\n",
    "\n"
   ]
  },
  {
   "cell_type": "code",
   "execution_count": 5,
   "metadata": {},
   "outputs": [
    {
     "name": "stdout",
     "output_type": "stream",
     "text": [
      "Mean and Std Dev loaded from file.\n",
      "Mean: tensor([0.4915, 0.4822, 0.4466]), Std: tensor([0.2463, 0.2428, 0.2607])\n"
     ]
    }
   ],
   "source": [
    "# transform_train = transforms.Compose([\n",
    "#     transforms.RandomHorizontalFlip(),\n",
    "#     transforms.RandomCrop(32, padding=4),\n",
    "#     transforms.ToTensor(),\n",
    "#     transforms.Normalize((0.5, 0.5, 0.5), (0.5, 0.5, 0.5))  # Normalizing the images\n",
    "# ])\n",
    "\n",
    "# transform_test = transforms.Compose([\n",
    "#     transforms.ToTensor(),\n",
    "#     transforms.Normalize((0.5, 0.5, 0.5), (0.5, 0.5, 0.5))\n",
    "# ])\n",
    "\n",
    "\n",
    "\n",
    "def calculate_mean_std(dataset):\n",
    "    dataloader = torch.utils.data.DataLoader(dataset, batch_size=64, shuffle=False, num_workers=2)\n",
    "    mean_sum = torch.zeros(3)\n",
    "    std_sum = torch.zeros(3)\n",
    "    num_batches = 0\n",
    "\n",
    "    for images, _ in dataloader:\n",
    "        num_batches += 1\n",
    "        for i in range(3):\n",
    "            mean_sum[i] += images[:,i,:,:].mean()\n",
    "            std_sum[i] += images[:,i,:,:].std()\n",
    "\n",
    "    mean = mean_sum / num_batches\n",
    "    std = std_sum / num_batches\n",
    "\n",
    "    return mean, std\n",
    "\n",
    "\n",
    "# Path for the dataset and the mean/std file\n",
    "data_path = '../data'\n",
    "mean_std_file = os.path.join(data_path, 'cifar10_mean_std.pkl')\n",
    "\n",
    "\n",
    "# Check if mean/std file exists, calculate if not\n",
    "if not os.path.exists(mean_std_file):\n",
    "    # Load CIFAR-10 without normalization\n",
    "    trainset_raw = torchvision.datasets.CIFAR10(root=data_path, train=True, download=True, transform=transforms.ToTensor())\n",
    "    mean, std = calculate_mean_std(trainset_raw)\n",
    "    with open(mean_std_file, 'wb') as f:\n",
    "        pickle.dump((mean, std), f)\n",
    "    print(\"Mean and Std Dev calculated and saved.\")\n",
    "else:\n",
    "    with open(mean_std_file, 'rb') as f:\n",
    "        mean, std = pickle.load(f)\n",
    "    print(\"Mean and Std Dev loaded from file.\")\n",
    "\n",
    "print(f\"Mean: {mean}, Std: {std}\")\n",
    "\n",
    "# Use the calculated/loaded mean and std for normalization\n",
    "transform_train = transforms.Compose([\n",
    "    transforms.RandomAffine(degrees=20, translate=(0.1, 0.1), scale=(0.8, 1.2), shear=10),\n",
    "    transforms.RandomHorizontalFlip(),\n",
    "    transforms.RandomCrop(32, padding=4),\n",
    "    transforms.ToTensor(),\n",
    "#     transforms.ConvertImageDtype(torch.float32),\n",
    "    transforms.RandomErasing(p=0.5, scale=(0.02, 0.33), ratio=(0.3, 3.3), value=0),\n",
    "    transforms.Normalize(mean, std)\n",
    "])\n",
    "# transform_train = transforms.Compose([\n",
    "#     transforms.RandomCrop(32, padding=4),\n",
    "#     transforms.RandomHorizontalFlip(),\n",
    "#     transforms.ToTensor(),\n",
    "#     transforms.Normalize((0.4914, 0.4822, 0.4465), (0.2023, 0.1994, 0.2010)),\n",
    "# ])\n",
    "\n",
    "transform_test = transforms.Compose([\n",
    "    transforms.ToTensor(),\n",
    "#     transforms.ConvertImageDtype(torch.float32),\n",
    "    transforms.Normalize(mean, std)\n",
    "])\n",
    "\n",
    "# transform_test = transforms.Compose([\n",
    "#     transforms.ToTensor(),\n",
    "#     transforms.Normalize((0.4914, 0.4822, 0.4465), (0.2023, 0.1994, 0.2010)),\n",
    "# ])\n"
   ]
  },
  {
   "cell_type": "code",
   "execution_count": 3,
   "metadata": {},
   "outputs": [],
   "source": [
    "def get_default_device():\n",
    "    \"\"\"Pick GPU if available, else CPU\"\"\"\n",
    "    if torch.cuda.is_available():\n",
    "        return torch.device('cuda')\n",
    "    else:\n",
    "        return torch.device('cpu')\n",
    "    \n",
    "def to_device(data, device):\n",
    "    \"\"\"Move tensor(s) to chosen device\"\"\"\n",
    "    if isinstance(data, (list,tuple)):\n",
    "        return [to_device(x, device) for x in data]\n",
    "    return data.to(device, non_blocking=True)\n",
    "\n",
    "class DeviceDataLoader():\n",
    "    \"\"\"Wrap a dataloader to move data to a device\"\"\"\n",
    "    def __init__(self, dl, device):\n",
    "        self.dl = dl\n",
    "        self.device = device\n",
    "        \n",
    "    def __iter__(self):\n",
    "        \"\"\"Yield a batch of data after moving it to device\"\"\"\n",
    "        for b in self.dl: \n",
    "            yield to_device(b, self.device)\n",
    "\n",
    "    def __len__(self):\n",
    "        \"\"\"Number of batches\"\"\"\n",
    "        return len(self.dl)"
   ]
  },
  {
   "cell_type": "code",
   "execution_count": 4,
   "metadata": {},
   "outputs": [
    {
     "data": {
      "text/plain": [
       "device(type='cpu')"
      ]
     },
     "execution_count": 4,
     "metadata": {},
     "output_type": "execute_result"
    }
   ],
   "source": [
    "device = get_default_device()\n",
    "device\n"
   ]
  },
  {
   "cell_type": "code",
   "execution_count": 6,
   "metadata": {},
   "outputs": [
    {
     "data": {
      "text/plain": [
       "device(type='cuda', index=2)"
      ]
     },
     "execution_count": 6,
     "metadata": {},
     "output_type": "execute_result"
    }
   ],
   "source": [
    "device=torch.device('cuda:2')\n",
    "device\n"
   ]
  },
  {
   "cell_type": "code",
   "execution_count": 10,
   "metadata": {},
   "outputs": [
    {
     "name": "stdout",
     "output_type": "stream",
     "text": [
      "Files already downloaded and verified\n",
      "Files already downloaded and verified\n"
     ]
    },
    {
     "data": {
      "text/plain": [
       "==========================================================================================\n",
       "Layer (type:depth-idx)                   Output Shape              Param #\n",
       "==========================================================================================\n",
       "ResNet                                   [128, 10]                 --\n",
       "├─Conv2d: 1-1                            [128, 64, 16, 16]         9,408\n",
       "├─BatchNorm2d: 1-2                       [128, 64, 16, 16]         128\n",
       "├─ReLU: 1-3                              [128, 64, 16, 16]         --\n",
       "├─MaxPool2d: 1-4                         [128, 64, 8, 8]           --\n",
       "├─Sequential: 1-5                        [128, 64, 8, 8]           --\n",
       "│    └─BasicBlock: 2-1                   [128, 64, 8, 8]           --\n",
       "│    │    └─Conv2d: 3-1                  [128, 64, 8, 8]           36,864\n",
       "│    │    └─BatchNorm2d: 3-2             [128, 64, 8, 8]           128\n",
       "│    │    └─ReLU: 3-3                    [128, 64, 8, 8]           --\n",
       "│    │    └─Conv2d: 3-4                  [128, 64, 8, 8]           36,864\n",
       "│    │    └─BatchNorm2d: 3-5             [128, 64, 8, 8]           128\n",
       "│    │    └─ReLU: 3-6                    [128, 64, 8, 8]           --\n",
       "│    └─BasicBlock: 2-2                   [128, 64, 8, 8]           --\n",
       "│    │    └─Conv2d: 3-7                  [128, 64, 8, 8]           36,864\n",
       "│    │    └─BatchNorm2d: 3-8             [128, 64, 8, 8]           128\n",
       "│    │    └─ReLU: 3-9                    [128, 64, 8, 8]           --\n",
       "│    │    └─Conv2d: 3-10                 [128, 64, 8, 8]           36,864\n",
       "│    │    └─BatchNorm2d: 3-11            [128, 64, 8, 8]           128\n",
       "│    │    └─ReLU: 3-12                   [128, 64, 8, 8]           --\n",
       "├─Sequential: 1-6                        [128, 128, 4, 4]          --\n",
       "│    └─BasicBlock: 2-3                   [128, 128, 4, 4]          --\n",
       "│    │    └─Conv2d: 3-13                 [128, 128, 4, 4]          73,728\n",
       "│    │    └─BatchNorm2d: 3-14            [128, 128, 4, 4]          256\n",
       "│    │    └─ReLU: 3-15                   [128, 128, 4, 4]          --\n",
       "│    │    └─Conv2d: 3-16                 [128, 128, 4, 4]          147,456\n",
       "│    │    └─BatchNorm2d: 3-17            [128, 128, 4, 4]          256\n",
       "│    │    └─Sequential: 3-18             [128, 128, 4, 4]          8,448\n",
       "│    │    └─ReLU: 3-19                   [128, 128, 4, 4]          --\n",
       "│    └─BasicBlock: 2-4                   [128, 128, 4, 4]          --\n",
       "│    │    └─Conv2d: 3-20                 [128, 128, 4, 4]          147,456\n",
       "│    │    └─BatchNorm2d: 3-21            [128, 128, 4, 4]          256\n",
       "│    │    └─ReLU: 3-22                   [128, 128, 4, 4]          --\n",
       "│    │    └─Conv2d: 3-23                 [128, 128, 4, 4]          147,456\n",
       "│    │    └─BatchNorm2d: 3-24            [128, 128, 4, 4]          256\n",
       "│    │    └─ReLU: 3-25                   [128, 128, 4, 4]          --\n",
       "├─Sequential: 1-7                        [128, 256, 2, 2]          --\n",
       "│    └─BasicBlock: 2-5                   [128, 256, 2, 2]          --\n",
       "│    │    └─Conv2d: 3-26                 [128, 256, 2, 2]          294,912\n",
       "│    │    └─BatchNorm2d: 3-27            [128, 256, 2, 2]          512\n",
       "│    │    └─ReLU: 3-28                   [128, 256, 2, 2]          --\n",
       "│    │    └─Conv2d: 3-29                 [128, 256, 2, 2]          589,824\n",
       "│    │    └─BatchNorm2d: 3-30            [128, 256, 2, 2]          512\n",
       "│    │    └─Sequential: 3-31             [128, 256, 2, 2]          33,280\n",
       "│    │    └─ReLU: 3-32                   [128, 256, 2, 2]          --\n",
       "│    └─BasicBlock: 2-6                   [128, 256, 2, 2]          --\n",
       "│    │    └─Conv2d: 3-33                 [128, 256, 2, 2]          589,824\n",
       "│    │    └─BatchNorm2d: 3-34            [128, 256, 2, 2]          512\n",
       "│    │    └─ReLU: 3-35                   [128, 256, 2, 2]          --\n",
       "│    │    └─Conv2d: 3-36                 [128, 256, 2, 2]          589,824\n",
       "│    │    └─BatchNorm2d: 3-37            [128, 256, 2, 2]          512\n",
       "│    │    └─ReLU: 3-38                   [128, 256, 2, 2]          --\n",
       "├─Sequential: 1-8                        [128, 512, 1, 1]          --\n",
       "│    └─BasicBlock: 2-7                   [128, 512, 1, 1]          --\n",
       "│    │    └─Conv2d: 3-39                 [128, 512, 1, 1]          1,179,648\n",
       "│    │    └─BatchNorm2d: 3-40            [128, 512, 1, 1]          1,024\n",
       "│    │    └─ReLU: 3-41                   [128, 512, 1, 1]          --\n",
       "│    │    └─Conv2d: 3-42                 [128, 512, 1, 1]          2,359,296\n",
       "│    │    └─BatchNorm2d: 3-43            [128, 512, 1, 1]          1,024\n",
       "│    │    └─Sequential: 3-44             [128, 512, 1, 1]          132,096\n",
       "│    │    └─ReLU: 3-45                   [128, 512, 1, 1]          --\n",
       "│    └─BasicBlock: 2-8                   [128, 512, 1, 1]          --\n",
       "│    │    └─Conv2d: 3-46                 [128, 512, 1, 1]          2,359,296\n",
       "│    │    └─BatchNorm2d: 3-47            [128, 512, 1, 1]          1,024\n",
       "│    │    └─ReLU: 3-48                   [128, 512, 1, 1]          --\n",
       "│    │    └─Conv2d: 3-49                 [128, 512, 1, 1]          2,359,296\n",
       "│    │    └─BatchNorm2d: 3-50            [128, 512, 1, 1]          1,024\n",
       "│    │    └─ReLU: 3-51                   [128, 512, 1, 1]          --\n",
       "├─AdaptiveAvgPool2d: 1-9                 [128, 512, 1, 1]          --\n",
       "├─Linear: 1-10                           [128, 10]                 5,130\n",
       "==========================================================================================\n",
       "Total params: 11,181,642\n",
       "Trainable params: 11,181,642\n",
       "Non-trainable params: 0\n",
       "Total mult-adds (G): 4.74\n",
       "==========================================================================================\n",
       "Input size (MB): 1.57\n",
       "Forward/backward pass size (MB): 103.82\n",
       "Params size (MB): 44.73\n",
       "Estimated Total Size (MB): 150.12\n",
       "=========================================================================================="
      ]
     },
     "execution_count": 10,
     "metadata": {},
     "output_type": "execute_result"
    }
   ],
   "source": [
    "# device=torch.device('cuda:2')\n",
    "# print(f\"Using device: {device}\")\n",
    "model.to(device)\n",
    "\n",
    "batch_size=128\n",
    "# Load the CIFAR-10 dataset with transforms\n",
    "trainset = torchvision.datasets.CIFAR10(root='../data', train=True, download=True, transform=transform_train)\n",
    "trainloader = torch.utils.data.DataLoader(trainset, batch_size=batch_size, shuffle=True, num_workers=2,pin_memory=True)\n",
    "\n",
    "testset = torchvision.datasets.CIFAR10(root='../data', train=False, download=True, transform=transform_test)\n",
    "testloader = torch.utils.data.DataLoader(testset, batch_size=2*batch_size, shuffle=False, num_workers=2,pin_memory=True)\n",
    "\n",
    "# Define loss function and optimizer\n",
    "criterion = torch.nn.CrossEntropyLoss()\n",
    "optimizer = torch.optim.AdamW(model.parameters(), lr=0.01,weight_decay=5e-4,fused=True,betas=(0.9,0.95))\n",
    "# optimizer = torch.optim.SGD(model.parameters(), lr=0.001,weight_decay=1e-4,momentum=0.9)\n",
    "\n",
    "summary(model,input_size=(batch_size, 3, 32, 32))\n"
   ]
  },
  {
   "cell_type": "code",
   "execution_count": 28,
   "metadata": {},
   "outputs": [],
   "source": [
    "trainloader = DeviceDataLoader(trainloader, device)\n",
    "testloader = DeviceDataLoader(testloader, device)\n"
   ]
  },
  {
   "cell_type": "code",
   "execution_count": 12,
   "metadata": {},
   "outputs": [
    {
     "name": "stdout",
     "output_type": "stream",
     "text": [
      "Epoch: 200/200\tTrain Loss: 0.9813\tTest Loss: 0.8190\tAccuracy: 72.38%\tElapsed Time: 00:46:36\tExpected Time: 00:46:36Finished Training\n"
     ]
    }
   ],
   "source": [
    "import time\n",
    "\n",
    "# print(\"compiling the model... (takes a ~minute)\")\n",
    "# model = torch.compile(model) # requires PyTorch 2.0\n",
    "\n",
    "num_epochs = 200  # Set the number of epochs\n",
    "best_accuracy = 0.0\n",
    "decay_rate = 10 ** (-2 / num_epochs)\n",
    "# scheduler = torch.optim.lr_scheduler.CosineAnnealingLR(optimizer, T_max=200)\n",
    "# scheduler = torch.optim.lr_scheduler.ExponentialLR(optimizer, decay_rate)\n",
    "scheduler = torch.optim.lr_scheduler.CosineAnnealingWarmRestarts(optimizer, \n",
    "                                        T_0 = 1563,# Number of iterations for the first restart (Total iterations are epochs*len(train_loader) then divide that by how many times you want a restart)\n",
    "                                        T_mult = 1, # A factor increases TiTi​ after a restart\n",
    "                                        eta_min = 1e-5) # Minimum learning rate\n",
    "\n",
    "\n",
    "    \n",
    "\n",
    "\n",
    "start_time = time.time()    \n",
    "for epoch in range(num_epochs):\n",
    "    model.train()  # Set the model to training mode\n",
    "    running_loss = 0.0\n",
    "\n",
    "\n",
    "    for i, data in enumerate(trainloader):\n",
    "        inputs, labels = data[0].to(device), data[1].to(device)\n",
    "\n",
    "        optimizer.zero_grad()\n",
    "        outputs = model(inputs)\n",
    "        loss = criterion(outputs, labels)\n",
    "        loss.backward()\n",
    "        optimizer.step()\n",
    "\n",
    "        running_loss += loss.item()\n",
    "\n",
    "    avg_train_loss = running_loss / len(trainloader)\n",
    "\n",
    "    # Validation loop\n",
    "    model.eval()\n",
    "    correct = 0\n",
    "    total = 0\n",
    "    running_val_loss = 0.0\n",
    "\n",
    "    with torch.no_grad():\n",
    "        for data in testloader:\n",
    "            images, labels = data[0].to(device), data[1].to(device)\n",
    "            outputs = model(images)\n",
    "            loss = criterion(outputs, labels)\n",
    "            running_val_loss += loss.item()\n",
    "            _, predicted = torch.max(outputs.data, 1)\n",
    "            total += labels.size(0)\n",
    "            correct += (predicted == labels).sum().item()\n",
    "\n",
    "    avg_val_loss = running_val_loss / len(testloader)\n",
    "    accuracy = 100 * correct / total\n",
    "\n",
    "    # Save best model\n",
    "    if accuracy > best_accuracy:\n",
    "        best_accuracy = accuracy\n",
    "        torch.save(model.state_dict(), 'best_model.pth')\n",
    "\n",
    "    # Calculate and format runtime and expected time\n",
    "    elapsed_time = time.time() - start_time\n",
    "    expected_time = elapsed_time * num_epochs / (epoch + 1)\n",
    "    elapsed_str = time.strftime(\"%H:%M:%S\", time.gmtime(elapsed_time))\n",
    "    expected_str = time.strftime(\"%H:%M:%S\", time.gmtime(expected_time))\n",
    "\n",
    "    status_message = f\"Epoch: {epoch+1}/{num_epochs}\\tTrain Loss: {avg_train_loss:.4f}\\tTest Loss: {avg_val_loss:.4f}\\tAccuracy: {accuracy:.2f}%\\tElapsed Time: {elapsed_str}\\tExpected Time: {expected_str}\"\n",
    "    print(f\"\\r{status_message}\",end='')\n",
    "\n",
    "    scheduler.step()  # Step the scheduler\n",
    "\n",
    "print('Finished Training')\n"
   ]
  }
 ],
 "metadata": {
  "kernelspec": {
   "display_name": "gaia",
   "language": "python",
   "name": "gaia"
  },
  "language_info": {
   "codemirror_mode": {
    "name": "ipython",
    "version": 3
   },
   "file_extension": ".py",
   "mimetype": "text/x-python",
   "name": "python",
   "nbconvert_exporter": "python",
   "pygments_lexer": "ipython3",
   "version": "3.8.13"
  }
 },
 "nbformat": 4,
 "nbformat_minor": 4
}
